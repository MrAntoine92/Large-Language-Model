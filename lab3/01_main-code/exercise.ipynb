{
 "cells": [
  {
   "cell_type": "markdown",
   "id": "d2a7aa70",
   "metadata": {},
   "source": [
    "# Chapter 3 - Exercises\n",
    "\n",
    "> Author : Badr TAJINI - Large Language model (LLMs) - ESIEE 2024-2025\n",
    "\n",
    "---"
   ]
  },
  {
   "cell_type": "markdown",
   "id": "33dfa199-9aee-41d4-a64b-7e3811b9a616",
   "metadata": {},
   "source": [
    "# Exercise 3.1"
   ]
  },
  {
   "cell_type": "markdown",
   "id": "5fee2cf5-61c3-4167-81b5-44ea155bbaf2",
   "metadata": {},
   "source": [
    "Observe that the `nn.Linear` layer in `SelfAttention_v2` employs a distinct weight initialization strategy compared to the `nn.Parameter(torch.rand(d_in, d_out))` method utilized in `SelfAttention_v1`, resulting in divergent computational outputs. To validate the fundamental structural similarities between the two implementations, we propose a weight transfer methodology that will demonstrate the potential for convergence between `SelfAttention_v1` and `SelfAttention_v2`.\n",
    "\n",
    "**Key Exercise Question: Can you transfer the weights from `SelfAttention_v2` to `SelfAttention_v1` such that both implementations produce identical output tensors?**\n",
    "\n",
    "*Specific Challenges:*\n",
    "- Recognize that `nn.Linear` stores its weight matrix in a transposed configuration\n",
    "- Carefully map and transfer weights between the two self-attention implementations\n",
    "- Verify that the transferred weights result in mathematically equivalent computational results\n",
    "\n",
    "The primary objective is to systematically transfer weight matrices from an instantiated `SelfAttention_v2` object to a `SelfAttention_v1` instance, requiring a nuanced understanding of the underlying weight matrix representation.\n",
    "\n",
    "Subsequent research focuses on advancing the self-attention mechanism through two critical architectural enhancements:\n",
    "\n",
    "1. **Causal Masking**: This modification introduces a constraint preventing the attention mechanism from accessing future sequence elements. Such a constraint is particularly pivotal in generative language modeling contexts, where each token's prediction must be conditioned exclusively on preceding contextual information.\n",
    "\n",
    "2. **Multi-Head Attention**: This approach involves partitioning the attention mechanism into parallel computational \"heads.\" Each head operates as a distinct learnable feature extractor, capable of capturing diverse representational characteristics across different subspaces and positional contexts. By enabling simultaneous multi-perspective representation learning, this technique substantially augments the model's capacity to process complex, high-dimensional representations.\n",
    "\n",
    "These architectural refinements collectively contribute to more sophisticated and contextually aware neural network architectures, particularly in sequence modeling domains."
   ]
  },
  {
   "cell_type": "markdown",
   "id": "33543edb-46b5-4b01-8704-f7f101230544",
   "metadata": {},
   "source": [
    "# Exercise 3.2"
   ]
  },
  {
   "cell_type": "markdown",
   "id": "18e748ef-3106-4e11-a781-b230b74a0cef",
   "metadata": {},
   "source": [
    "**Key Exercise Question: How can you modify the input arguments to the `MultiHeadAttentionWrapper(num_heads=2)` to transform the output context vectors from four-dimensional to two-dimensional while maintaining the `num_heads=2` configuration?**\n",
    "\n",
    "*Specific Challenges:*\n",
    "- Identify the input parameter that controls the dimensionality of output context vectors\n",
    "- Understand the relationship between input arguments and tensor shape\n",
    "- Achieve dimensionality reduction without modifying the core `MultiHeadAttentionWrapper` class implementation\n",
    "\n",
    "*Architectural Context:*\n",
    "Up to this point, we have developed a `MultiHeadAttentionWrapper` that integrates multiple single-head attention modules through sequential processing, implemented via the comprehension `[head(x) for head in self.heads]` in the forward method. This current implementation represents a foundational approach to multi-head attention mechanisms.\n",
    "\n",
    "*Potential Optimization Strategies:*\n",
    "1. **Sequential Processing Limitation**: The current implementation processes attention heads sequentially, which may introduce computational inefficiencies.\n",
    "\n",
    "2. **Parallel Processing Approach**: An advanced optimization involves simultaneous computation of attention head outputs through efficient matrix multiplication techniques. This parallel processing strategy can potentially enhance computational performance and reduce computational overhead.\n",
    "\n",
    "*Theoretical Implications:*\n",
    "The ability to dynamically adjust output dimensionality while maintaining the multi-head attention structure highlights the flexibility of modern neural network architectural designs. Such manipulations are crucial in adapting attention mechanisms to diverse computational requirements across different machine learning domains.\n",
    "\n",
    "*Practical Recommendation:*\n",
    "Carefully examine the input arguments of the `MultiHeadAttentionWrapper` and consider how specific parameters might influence the output tensor's dimensionality. The solution likely involves a subtle adjustment that does not require restructuring the core implementation."
   ]
  },
  {
   "cell_type": "markdown",
   "id": "92bdabcb-06cf-4576-b810-d883bbd313ba",
   "metadata": {},
   "source": [
    "# Exercise 3.3"
   ]
  },
  {
   "cell_type": "markdown",
   "id": "78fdab01",
   "metadata": {
    "vscode": {
     "languageId": "plaintext"
    }
   },
   "source": [
    "**Key Exercise Question: Can you configure a `MultiHeadAttention` module that precisely replicates the architectural specifications of the smallest GPT-2 model?**\n",
    "\n",
    "*Specific Model Specifications:*\n",
    "- Number of Attention Heads: 12\n",
    "- Input/Output Embedding Dimensions: 768\n",
    "- Context Length: 1,024 tokens\n",
    "\n",
    "*Architectural Parameters:*\n",
    "- `num_heads`: 12\n",
    "- `d_model`: 768\n",
    "- `context_length`: 1,024\n",
    "\n",
    "*Theoretical Considerations:*\n",
    "The proposed configuration mirrors the smallest variant of the GPT-2 model, which represents a fundamental architecture in transformer-based language models. By precisely replicating these specifications, we can explore the intricate design choices that contribute to the model's effectiveness in natural language processing tasks.\n",
    "\n",
    "*Key Implementation Details:*\n",
    "- Ensuring 12 parallel attention heads allows for multi-perspective feature representation\n",
    "- The 768-dimensional embedding space provides a rich, high-dimensional representation of linguistic context\n",
    "- The 1,024 token context length enables comprehensive sequence processing\n",
    "\n",
    "*Practical Recommendation:*\n",
    "Carefully construct the `MultiHeadAttention` initialization to match these exact specifications, paying close attention to the dimensionality and number of heads to accurately reproduce the smallest GPT-2 model's architectural characteristics."
   ]
  }
 ],
 "metadata": {
  "kernelspec": {
   "display_name": "Python 3 (ipykernel)",
   "language": "python",
   "name": "python3"
  },
  "language_info": {
   "codemirror_mode": {
    "name": "ipython",
    "version": 3
   },
   "file_extension": ".py",
   "mimetype": "text/x-python",
   "name": "python",
   "nbconvert_exporter": "python",
   "pygments_lexer": "ipython3",
   "version": "3.10.6"
  }
 },
 "nbformat": 4,
 "nbformat_minor": 5
}
