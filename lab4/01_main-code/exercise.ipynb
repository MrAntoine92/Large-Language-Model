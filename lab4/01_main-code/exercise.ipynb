{
 "cells": [
  {
   "cell_type": "markdown",
   "id": "51c9672d-8d0c-470d-ac2d-1271f8ec3f14",
   "metadata": {},
   "source": [
    "# Chapter 4 - Exercises\n",
    "\n",
    "> Author : Badr TAJINI - Large Language model (LLMs) - ESIEE 2024-2025\n",
    "\n",
    "---"
   ]
  },
  {
   "cell_type": "markdown",
   "id": "5fea8be3-30a1-4623-a6d7-b095c6c1092e",
   "metadata": {},
   "source": [
    "# Exercise 4.1: Parameters in the feed forward versus attention module"
   ]
  },
  {
   "cell_type": "markdown",
   "id": "a8d2157e",
   "metadata": {},
   "source": [
    "**Key Exercise Question: How do the parameter counts differ between the `feed-forward` neural network module and `multi-head attention` mechanism in our transformer architecture?**\n",
    "\n",
    "*Methodological Approach:*\n",
    "The investigation focuses on a systematic computational analysis of parameter allocation across two critical transformer neural network components:\n",
    "\n",
    "1. **Feed-Forward Neural Network Module**\n",
    "   - Characterization: Nonlinear transformation module\n",
    "   - Primary computational function: Introducing network complexity and representational capacity\n",
    "   - Parametric considerations: Linear transformation layers, activation functions\n",
    "\n",
    "2. **Multi-Head Attention Mechanism**\n",
    "   - Characterization: Contextual feature interaction module\n",
    "   - Primary computational function: Capturing inter-token relational dynamics\n",
    "   - Parametric considerations: Projection matrices, attention computation\n",
    "\n",
    "*Analytical Objectives:*\n",
    "- Quantify the exact number of trainable parameters in each architectural component\n",
    "- Comparative assessment of parametric complexity\n",
    "- Understand the relative computational resource allocation\n",
    "\n",
    "*Theoretical Implications:*\n",
    "- Insights into architectural parameter efficiency\n",
    "- Empirical understanding of transformer module design\n",
    "- Potential implications for model optimization and architectural design\n",
    "\n",
    "*Computational Methodology:*\n",
    "1. Enumerate parameters in `feed-forward` module\n",
    "2. Enumerate parameters in `multi-head attention` module\n",
    "3. Perform comparative statistical analysis\n",
    "4. Interpret parametric distribution characteristics\n",
    "\n",
    "*Recommended Investigative Approach:*\n",
    "- Utilize precise computational tracing\n",
    "- Consider layer-specific parameter counting\n",
    "- Account for bias terms and weight matrices"
   ]
  },
  {
   "cell_type": "markdown",
   "id": "0f7b7c7f-0fa1-4d30-ab44-e499edd55b6d",
   "metadata": {},
   "source": [
    "# Exercise 4.2: Initialize larger GPT models"
   ]
  },
  {
   "cell_type": "markdown",
   "id": "310b2e05-3ec8-47fc-afd9-83bf03d4aad8",
   "metadata": {},
   "source": [
    "- **GPT2-small** (the 124M configuration we already implemented):\n",
    "    - \"emb_dim\" = 768\n",
    "    - \"n_layers\" = 12\n",
    "    - \"n_heads\" = 12\n",
    "\n",
    "- **GPT2-medium:**\n",
    "    - \"emb_dim\" = 1024\n",
    "    - \"n_layers\" = 24\n",
    "    - \"n_heads\" = 16\n",
    "\n",
    "- **GPT2-large:**\n",
    "    - \"emb_dim\" = 1280\n",
    "    - \"n_layers\" = 36\n",
    "    - \"n_heads\" = 20\n",
    "\n",
    "- **GPT2-XL:**\n",
    "    - \"emb_dim\" = 1600\n",
    "    - \"n_layers\" = 48\n",
    "    - \"n_heads\" = 25"
   ]
  },
  {
   "cell_type": "markdown",
   "id": "ceed1fd4",
   "metadata": {},
   "source": [
    "**Key Exercise Question: Can you systematically scale the GPT-2 model architecture from the small configuration to medium, large, and XL variants by exclusively modifying the configuration parameters?**\n",
    "\n",
    "*Architectural Scaling Challenge:*\n",
    "This exercise explores the methodological expansion of the GPT-2 model across different scales, demonstrating how architectural complexity can be incrementally increased through strategic parameter modifications.\n",
    "\n",
    "*Model Variants to Implement:*\n",
    "1. **GPT-2 Small (Current Implementation)**\n",
    "   - Embedding Dimensions (\"emb_dim\"): 768\n",
    "   - Transformer Blocks (\"n_layers\"): 12\n",
    "   - Multi-Head Attention Heads (\"n_heads\"): 12\n",
    "\n",
    "2. **GPT-2 Medium**\n",
    "   - Embedding Dimensions (\"emb_dim\"): 1,024\n",
    "   - Transformer Blocks (\"n_layers\"): 24\n",
    "   - Multi-Head Attention Heads (\"n_heads\"): 16\n",
    "\n",
    "3. **GPT-2 Large**\n",
    "   - Embedding Dimensions (\"emb_dim\"): 1,280\n",
    "   - Transformer Blocks (\"n_layers\"): 36\n",
    "   - Multi-Head Attention Heads (\"n_heads\"): 20\n",
    "\n",
    "4. **GPT-2 XL**\n",
    "   - Embedding Dimensions (\"emb_dim\"): 1,600\n",
    "   - Transformer Blocks (\"n_layers\"): 48\n",
    "   - Multi-Head Attention Heads (\"n_heads\"): 25\n",
    "\n",
    "*Methodological Constraints:*\n",
    "- Modify only the configuration file\n",
    "- Utilize the existing `GPTModel` class without code alterations\n",
    "- Demonstrate parameter scaling capabilities\n",
    "- Calculate total parameters for each model variant\n",
    "\n",
    "**Bonus Challenge:**\n",
    "**Compute the total number of trainable parameters for each model variant, highlighting the exponential growth in model complexity.**\n",
    "\n"
   ]
  },
  {
   "cell_type": "markdown",
   "id": "f5f2306e-5dc8-498e-92ee-70ae7ec37ac1",
   "metadata": {},
   "source": [
    "# Exercise 4.3: Using separate dropout parameters"
   ]
  },
  {
   "cell_type": "markdown",
   "id": "1a7cc6cd",
   "metadata": {},
   "source": [
    "**Key Exercise Question: How can we enhance the dropout configuration of the GPT model by implementing layer-specific dropout rates?**\n",
    "\n",
    "*Architectural Dropout Refinement:*\n",
    "The current implementation employs a uniform dropout rate across multiple model components, which presents an opportunity for more nuanced regularization strategies. This exercise challenges you to develop a more sophisticated approach to dropout implementation within neural network architectures.\n",
    "\n",
    "*Dropout Localization:*\n",
    "Three critical architectural components require distinct dropout configurations:\n",
    "1. Embedding Layer\n",
    "2. Shortcut (Residual) Connections\n",
    "3. Multi-Head Attention Module\n",
    "\n",
    "*Methodological Approach:*\n",
    "You must modify the existing `GPT_CONFIG_124M` configuration to:\n",
    "- Replace the monolithic `drop_rate` parameter\n",
    "- Introduce a hierarchical dropout configuration\n",
    "- Maintain the overall structural integrity of the model architecture\n",
    "\n",
    "*Conceptual Challenge:*\n",
    "The exercise requires a deep understanding of:\n",
    "- Regularization techniques in neural network design\n",
    "- The functional role of dropout in different architectural components\n",
    "- Systematic configuration of model hyperparameters"
   ]
  }
 ],
 "metadata": {
  "kernelspec": {
   "display_name": "Python 3 (ipykernel)",
   "language": "python",
   "name": "python3"
  },
  "language_info": {
   "codemirror_mode": {
    "name": "ipython",
    "version": 3
   },
   "file_extension": ".py",
   "mimetype": "text/x-python",
   "name": "python",
   "nbconvert_exporter": "python",
   "pygments_lexer": "ipython3",
   "version": "3.11.4"
  }
 },
 "nbformat": 4,
 "nbformat_minor": 5
}
